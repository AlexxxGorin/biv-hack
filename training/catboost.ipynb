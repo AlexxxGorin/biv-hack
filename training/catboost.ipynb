{
 "cells": [
  {
   "cell_type": "markdown",
   "id": "0e5f7c8c-2607-478c-b42f-e41dae226b3d",
   "metadata": {},
   "source": [
    "# Imports"
   ]
  },
  {
   "cell_type": "code",
   "execution_count": 1,
   "id": "41833f93-f3ca-4baa-a339-50289371fb8a",
   "metadata": {},
   "outputs": [
    {
     "name": "stderr",
     "output_type": "stream",
     "text": [
      "/opt/jupyter/lib64/python3.8/site-packages/xgboost/compat.py:31: FutureWarning: pandas.Int64Index is deprecated and will be removed from pandas in a future version. Use pandas.Index with the appropriate dtype instead.\n",
      "  from pandas import MultiIndex, Int64Index\n"
     ]
    }
   ],
   "source": [
    "import pandas as pd\n",
    "from catboost import CatBoostClassifier, Pool\n",
    "from sklearn.model_selection import train_test_split\n",
    "from sklearn.metrics import accuracy_score, classification_report"
   ]
  },
  {
   "cell_type": "markdown",
   "id": "cf24ee8d-f2e2-422f-8c4f-d7d30b26c899",
   "metadata": {},
   "source": [
    "# Read data"
   ]
  },
  {
   "cell_type": "code",
   "execution_count": 87,
   "id": "23d660ba-4dc4-47d0-bc7b-ff06f195f834",
   "metadata": {},
   "outputs": [],
   "source": [
    "data = pd.read_csv('../data/payments_augmented_training.tsv', sep='\\t', header=None)"
   ]
  },
  {
   "cell_type": "code",
   "execution_count": 101,
   "id": "dc7444ec-2de7-452b-9b24-c12177d8d133",
   "metadata": {},
   "outputs": [],
   "source": [
    "data.rename({\n",
    "    1: 'date',\n",
    "    2: 'sum',\n",
    "    3: 'purpose',\n",
    "    4: 'category'\n",
    "}, axis=1, inplace=True)"
   ]
  },
  {
   "cell_type": "markdown",
   "id": "847d7184-fae0-456b-bed2-27a9e19e74b7",
   "metadata": {},
   "source": [
    "# Training"
   ]
  },
  {
   "cell_type": "code",
   "execution_count": 102,
   "id": "b0ab99ba-6797-45a5-8cc7-2ca444801c39",
   "metadata": {},
   "outputs": [],
   "source": [
    "X_train, X_test, y_train, y_test = train_test_split(data[['purpose']], data['category'], test_size=0.2, random_state=42)\n"
   ]
  },
  {
   "cell_type": "code",
   "execution_count": 103,
   "id": "e82f8424-a8c2-45fe-8d1f-5d4599f0caf9",
   "metadata": {},
   "outputs": [],
   "source": [
    "train_pool = Pool(data=X_train, label=y_train, text_features=['purpose'])  # text_features=[0] indicates the text column\n",
    "test_pool = Pool(data=X_test, label=y_test, text_features=['purpose'])"
   ]
  },
  {
   "cell_type": "code",
   "execution_count": 107,
   "id": "da182651-6b60-4ad3-8f8e-7dcd85e121d3",
   "metadata": {},
   "outputs": [],
   "source": [
    "model = CatBoostClassifier(\n",
    "    iterations=300,\n",
    "    depth=5,\n",
    "    loss_function='MultiClass',\n",
    "    eval_metric='Accuracy',\n",
    "    verbose=0,\n",
    "    text_features=[0]\n",
    ")\n"
   ]
  },
  {
   "cell_type": "code",
   "execution_count": 109,
   "id": "067383f7-dc59-442d-92c4-4625f139cff5",
   "metadata": {},
   "outputs": [],
   "source": [
    "model.fit(train_pool, eval_set=test_pool, verbose=0)\n",
    "\n",
    "# Make predictions\n",
    "preds = model.predict(test_pool)\n",
    "preds_proba = model.predict_proba(test_pool)"
   ]
  },
  {
   "cell_type": "code",
   "execution_count": null,
   "id": "e937e23e-bf32-4206-aedb-67506563c47a",
   "metadata": {},
   "outputs": [],
   "source": []
  },
  {
   "cell_type": "code",
   "execution_count": 115,
   "id": "7c45a9d5-9215-4081-97fb-2d5a1aa6d122",
   "metadata": {},
   "outputs": [
    {
     "name": "stdout",
     "output_type": "stream",
     "text": [
      "Accuracy: 1.0\n",
      "\n",
      "Classification Report:\n",
      "                precision    recall  f1-score   support\n",
      "\n",
      "  BANK_SERVICE       1.00      1.00      1.00        70\n",
      "    FOOD_GOODS       1.00      1.00      1.00       190\n",
      "       LEASING       1.00      1.00      1.00        70\n",
      "          LOAN       1.00      1.00      1.00       100\n",
      "NON_FOOD_GOODS       1.00      1.00      1.00       160\n",
      "NOT_CLASSIFIED       1.00      1.00      1.00        30\n",
      "   REALE_STATE       1.00      1.00      1.00        50\n",
      "       SERVICE       1.00      1.00      1.00       200\n",
      "           TAX       1.00      1.00      1.00       130\n",
      "\n",
      "      accuracy                           1.00      1000\n",
      "     macro avg       1.00      1.00      1.00      1000\n",
      "  weighted avg       1.00      1.00      1.00      1000\n",
      "\n"
     ]
    }
   ],
   "source": [
    "accuracy = accuracy_score(y_test, preds)\n",
    "print(f\"Accuracy: {accuracy}\")\n",
    "print(\"\\nClassification Report:\")\n",
    "print(classification_report(y_test, preds))"
   ]
  },
  {
   "cell_type": "code",
   "execution_count": null,
   "id": "a4fc7d92-a9b5-42cd-bc41-6e72be741216",
   "metadata": {},
   "outputs": [],
   "source": []
  }
 ],
 "metadata": {
  "kernelspec": {
   "display_name": "Python 3",
   "language": "python",
   "name": "python3"
  },
  "language_info": {
   "codemirror_mode": {
    "name": "ipython",
    "version": 3
   },
   "file_extension": ".py",
   "mimetype": "text/x-python",
   "name": "python",
   "nbconvert_exporter": "python",
   "pygments_lexer": "ipython3",
   "version": "3.8.8"
  }
 },
 "nbformat": 4,
 "nbformat_minor": 5
}
