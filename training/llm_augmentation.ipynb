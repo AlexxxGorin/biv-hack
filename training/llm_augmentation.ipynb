{
 "cells": [
  {
   "cell_type": "code",
   "execution_count": 32,
   "id": "841ddb87-dba4-4179-959f-052d9c60931a",
   "metadata": {},
   "outputs": [],
   "source": [
    "from transformers import AutoTokenizer, AutoModelForCausalLM\n",
    "import torch\n",
    "import pandas as pd\n",
    "from tqdm import tqdm"
   ]
  },
  {
   "cell_type": "code",
   "execution_count": 2,
   "id": "4a8191c0-26fc-4a65-9949-32ea579c23bf",
   "metadata": {},
   "outputs": [],
   "source": [
    "# !pip install -U torch"
   ]
  },
  {
   "cell_type": "code",
   "execution_count": 3,
   "id": "0fa0c7c2-d13b-49b5-8bd9-dab7da9c8223",
   "metadata": {},
   "outputs": [
    {
     "name": "stdout",
     "output_type": "stream",
     "text": [
      "debert_vk  gemma2-9b-it  vikhr\n"
     ]
    }
   ],
   "source": [
    "!ls ../models/"
   ]
  },
  {
   "cell_type": "code",
   "execution_count": 4,
   "id": "48f5724c-545d-4c1b-9481-7181999bcb92",
   "metadata": {},
   "outputs": [],
   "source": [
    "# ! pip install accelerate>=0.26.0"
   ]
  },
  {
   "cell_type": "code",
   "execution_count": 5,
   "id": "4ea44e10-aff4-4049-890b-5a6ef66e725f",
   "metadata": {},
   "outputs": [
    {
     "data": {
      "application/vnd.jupyter.widget-view+json": {
       "model_id": "16c6e9b9698c4c33babddb254a4eb854",
       "version_major": 2,
       "version_minor": 0
      },
      "text/plain": [
       "Loading checkpoint shards:   0%|          | 0/4 [00:00<?, ?it/s]"
      ]
     },
     "metadata": {},
     "output_type": "display_data"
    }
   ],
   "source": [
    "tokenizer = AutoTokenizer.from_pretrained(\"../models/gemma2-9b-it\")\n",
    "model = AutoModelForCausalLM.from_pretrained(\n",
    "    \"../models/gemma2-9b-it\",\n",
    "    torch_dtype=torch.bfloat16,\n",
    "    device_map=\"cuda:0\"\n",
    ")"
   ]
  },
  {
   "cell_type": "code",
   "execution_count": 57,
   "id": "eccd8bb1-df43-4862-b700-0640aa2a5c99",
   "metadata": {},
   "outputs": [],
   "source": [
    "def get_prompt(text):\n",
    "    \n",
    "    \n",
    "    prompt = f\"\"\"\n",
    "        Ты получишь текст, который нужно перефразировать. \n",
    "        Твоя задача — сохранить основной смысл текста, но изменить формулировки, включая числа, названия, брендвы и даты. \n",
    "        Используй синонимы и близкие по смыслу выражения, сохраняя длину текста приблизительно такой же.\n",
    "\n",
    "        Теперь обработай следующий текст: {text}\n",
    "    \"\"\"\n",
    "\n",
    "    \n",
    "    return prompt\n",
    "\n",
    "    \n",
    "\n",
    "\n",
    "def get_llm_response(text):\n",
    "    \n",
    "    prompt = get_prompt(text)\n",
    "    \n",
    "    \n",
    "    messages = [\n",
    "        {\"role\": \"user\", \"content\": prompt},\n",
    "    ]\n",
    "    input_ids = tokenizer.apply_chat_template(messages, return_tensors=\"pt\", return_dict=True, add_generation_prompt=True).to(\"cuda\")\n",
    "\n",
    "    outputs = model.generate(**input_ids, \n",
    "                             max_new_tokens=100, \n",
    "                             do_sample=True,\n",
    "                             temperature=0.9)\n",
    "    answer = tokenizer.decode(outputs[0])\n",
    "    beginning, end = answer.find('<start_of_turn>model\\n') + 21, answer.find('\\n<end_of_turn') - 1,\n",
    "    \n",
    "    return answer[beginning: end]"
   ]
  },
  {
   "cell_type": "markdown",
   "id": "70a738b5-392a-4147-b9e1-279e91471054",
   "metadata": {},
   "source": [
    "# Read data"
   ]
  },
  {
   "cell_type": "code",
   "execution_count": 58,
   "id": "d9cf68de-7cc6-41dc-a0f3-d01c2c747009",
   "metadata": {},
   "outputs": [],
   "source": [
    "data = pd.read_csv('../data/payments_training.tsv', sep='\\t', header=None)\n",
    "data.rename({\n",
    "    0: 'id',\n",
    "    1: 'date',\n",
    "    2: 'sum',\n",
    "    3: 'purpose',\n",
    "    4: 'category'\n",
    "}, axis=1, inplace=True)"
   ]
  },
  {
   "cell_type": "code",
   "execution_count": 59,
   "id": "91636347-02b5-4538-a71f-4f378dda3146",
   "metadata": {},
   "outputs": [
    {
     "data": {
      "text/html": [
       "<div>\n",
       "<style scoped>\n",
       "    .dataframe tbody tr th:only-of-type {\n",
       "        vertical-align: middle;\n",
       "    }\n",
       "\n",
       "    .dataframe tbody tr th {\n",
       "        vertical-align: top;\n",
       "    }\n",
       "\n",
       "    .dataframe thead th {\n",
       "        text-align: right;\n",
       "    }\n",
       "</style>\n",
       "<table border=\"1\" class=\"dataframe\">\n",
       "  <thead>\n",
       "    <tr style=\"text-align: right;\">\n",
       "      <th></th>\n",
       "      <th>id</th>\n",
       "      <th>date</th>\n",
       "      <th>sum</th>\n",
       "      <th>purpose</th>\n",
       "      <th>category</th>\n",
       "    </tr>\n",
       "  </thead>\n",
       "  <tbody>\n",
       "    <tr>\n",
       "      <th>0</th>\n",
       "      <td>1</td>\n",
       "      <td>07.11.2024</td>\n",
       "      <td>15300.00</td>\n",
       "      <td>За участие в конференции в г. Майкоп по догово...</td>\n",
       "      <td>SERVICE</td>\n",
       "    </tr>\n",
       "    <tr>\n",
       "      <th>1</th>\n",
       "      <td>2</td>\n",
       "      <td>07.11.2024</td>\n",
       "      <td>40200,00</td>\n",
       "      <td>За оказание услуг по договору №79-02726В от 01...</td>\n",
       "      <td>SERVICE</td>\n",
       "    </tr>\n",
       "    <tr>\n",
       "      <th>2</th>\n",
       "      <td>3</td>\n",
       "      <td>07.11.2024</td>\n",
       "      <td>1440-00</td>\n",
       "      <td>Оплата за Порошок стиральный Ariel Color autom...</td>\n",
       "      <td>NON_FOOD_GOODS</td>\n",
       "    </tr>\n",
       "    <tr>\n",
       "      <th>3</th>\n",
       "      <td>4</td>\n",
       "      <td>07.11.2024</td>\n",
       "      <td>240000000-00</td>\n",
       "      <td>Возврат денежных средств по договору займа №04...</td>\n",
       "      <td>LOAN</td>\n",
       "    </tr>\n",
       "    <tr>\n",
       "      <th>4</th>\n",
       "      <td>5</td>\n",
       "      <td>07.11.2024</td>\n",
       "      <td>1360000.00</td>\n",
       "      <td>Оплата Дог №452 от 13/03/2021, согл. Сч 0745-2...</td>\n",
       "      <td>NOT_CLASSIFIED</td>\n",
       "    </tr>\n",
       "  </tbody>\n",
       "</table>\n",
       "</div>"
      ],
      "text/plain": [
       "   id        date           sum  \\\n",
       "0   1  07.11.2024      15300.00   \n",
       "1   2  07.11.2024      40200,00   \n",
       "2   3  07.11.2024       1440-00   \n",
       "3   4  07.11.2024  240000000-00   \n",
       "4   5  07.11.2024    1360000.00   \n",
       "\n",
       "                                             purpose        category  \n",
       "0  За участие в конференции в г. Майкоп по догово...         SERVICE  \n",
       "1  За оказание услуг по договору №79-02726В от 01...         SERVICE  \n",
       "2  Оплата за Порошок стиральный Ariel Color autom...  NON_FOOD_GOODS  \n",
       "3  Возврат денежных средств по договору займа №04...            LOAN  \n",
       "4  Оплата Дог №452 от 13/03/2021, согл. Сч 0745-2...  NOT_CLASSIFIED  "
      ]
     },
     "execution_count": 59,
     "metadata": {},
     "output_type": "execute_result"
    }
   ],
   "source": [
    "data.head()"
   ]
  },
  {
   "cell_type": "code",
   "execution_count": 60,
   "id": "6dce4fb6-2e23-4b15-8dd7-bcfe3aa5c69e",
   "metadata": {},
   "outputs": [
    {
     "data": {
      "text/plain": [
       "NON_FOOD_GOODS    96\n",
       "FOOD_GOODS        90\n",
       "SERVICE           88\n",
       "BANK_SERVICE      49\n",
       "TAX               48\n",
       "LOAN              41\n",
       "LEASING           38\n",
       "REALE_STATE       27\n",
       "NOT_CLASSIFIED    23\n",
       "Name: category, dtype: int64"
      ]
     },
     "execution_count": 60,
     "metadata": {},
     "output_type": "execute_result"
    }
   ],
   "source": [
    "data['category'].value_counts()"
   ]
  },
  {
   "cell_type": "code",
   "execution_count": 61,
   "id": "700b3d75-bc90-4a15-8980-139558acd1f6",
   "metadata": {},
   "outputs": [
    {
     "data": {
      "text/plain": [
       "'Перевод себе'"
      ]
     },
     "execution_count": 61,
     "metadata": {},
     "output_type": "execute_result"
    }
   ],
   "source": [
    "data[data['category'] == 'NOT_CLASSIFIED']['purpose'].iloc[12]"
   ]
  },
  {
   "cell_type": "code",
   "execution_count": null,
   "id": "b72d1eef-3c63-467f-bbca-8869f24fa5e8",
   "metadata": {},
   "outputs": [],
   "source": []
  },
  {
   "cell_type": "code",
   "execution_count": 62,
   "id": "1c228568-c016-4c80-b485-b46b00e6271e",
   "metadata": {},
   "outputs": [
    {
     "data": {
      "text/plain": [
       "('государственная пошлина', 'TAX')"
      ]
     },
     "execution_count": 62,
     "metadata": {},
     "output_type": "execute_result"
    }
   ],
   "source": [
    "n = 423\n",
    "\n",
    "\n",
    "text = data.iloc[n]['purpose']\n",
    "label = data.iloc[n]['category']\n",
    "text, label"
   ]
  },
  {
   "cell_type": "code",
   "execution_count": 63,
   "id": "c30f0ece-54f3-4a25-bab0-c7d5d3883296",
   "metadata": {},
   "outputs": [
    {
     "data": {
      "text/plain": [
       "'Налог, взимаемый государством '"
      ]
     },
     "execution_count": 63,
     "metadata": {},
     "output_type": "execute_result"
    }
   ],
   "source": [
    "response = get_llm_response(text)\n",
    "response"
   ]
  },
  {
   "cell_type": "code",
   "execution_count": 64,
   "id": "b6cd2404-d457-4fe6-92b6-864884acb34e",
   "metadata": {},
   "outputs": [
    {
     "data": {
      "text/plain": [
       "406"
      ]
     },
     "execution_count": 64,
     "metadata": {},
     "output_type": "execute_result"
    }
   ],
   "source": [
    "data['purpose'].nunique()"
   ]
  },
  {
   "cell_type": "code",
   "execution_count": 65,
   "id": "280b6fe4-c3bc-4e9c-8e60-faf6d112c6ec",
   "metadata": {},
   "outputs": [
    {
     "data": {
      "text/html": [
       "<div>\n",
       "<style scoped>\n",
       "    .dataframe tbody tr th:only-of-type {\n",
       "        vertical-align: middle;\n",
       "    }\n",
       "\n",
       "    .dataframe tbody tr th {\n",
       "        vertical-align: top;\n",
       "    }\n",
       "\n",
       "    .dataframe thead th {\n",
       "        text-align: right;\n",
       "    }\n",
       "</style>\n",
       "<table border=\"1\" class=\"dataframe\">\n",
       "  <thead>\n",
       "    <tr style=\"text-align: right;\">\n",
       "      <th></th>\n",
       "      <th>id</th>\n",
       "      <th>date</th>\n",
       "      <th>sum</th>\n",
       "      <th>purpose</th>\n",
       "      <th>category</th>\n",
       "    </tr>\n",
       "  </thead>\n",
       "  <tbody>\n",
       "    <tr>\n",
       "      <th>0</th>\n",
       "      <td>1</td>\n",
       "      <td>07.11.2024</td>\n",
       "      <td>15300.00</td>\n",
       "      <td>За участие в конференции в г. Майкоп по догово...</td>\n",
       "      <td>SERVICE</td>\n",
       "    </tr>\n",
       "    <tr>\n",
       "      <th>1</th>\n",
       "      <td>2</td>\n",
       "      <td>07.11.2024</td>\n",
       "      <td>40200,00</td>\n",
       "      <td>За оказание услуг по договору №79-02726В от 01...</td>\n",
       "      <td>SERVICE</td>\n",
       "    </tr>\n",
       "    <tr>\n",
       "      <th>2</th>\n",
       "      <td>3</td>\n",
       "      <td>07.11.2024</td>\n",
       "      <td>1440-00</td>\n",
       "      <td>Оплата за Порошок стиральный Ariel Color autom...</td>\n",
       "      <td>NON_FOOD_GOODS</td>\n",
       "    </tr>\n",
       "    <tr>\n",
       "      <th>3</th>\n",
       "      <td>4</td>\n",
       "      <td>07.11.2024</td>\n",
       "      <td>240000000-00</td>\n",
       "      <td>Возврат денежных средств по договору займа №04...</td>\n",
       "      <td>LOAN</td>\n",
       "    </tr>\n",
       "    <tr>\n",
       "      <th>4</th>\n",
       "      <td>5</td>\n",
       "      <td>07.11.2024</td>\n",
       "      <td>1360000.00</td>\n",
       "      <td>Оплата Дог №452 от 13/03/2021, согл. Сч 0745-2...</td>\n",
       "      <td>NOT_CLASSIFIED</td>\n",
       "    </tr>\n",
       "    <tr>\n",
       "      <th>...</th>\n",
       "      <td>...</td>\n",
       "      <td>...</td>\n",
       "      <td>...</td>\n",
       "      <td>...</td>\n",
       "      <td>...</td>\n",
       "    </tr>\n",
       "    <tr>\n",
       "      <th>495</th>\n",
       "      <td>496</td>\n",
       "      <td>07.11.2024</td>\n",
       "      <td>2610.00</td>\n",
       "      <td>Оплата налогов</td>\n",
       "      <td>TAX</td>\n",
       "    </tr>\n",
       "    <tr>\n",
       "      <th>496</th>\n",
       "      <td>497</td>\n",
       "      <td>07.11.2024</td>\n",
       "      <td>31200-00</td>\n",
       "      <td>Комиссия за выполнение функций агента валютног...</td>\n",
       "      <td>BANK_SERVICE</td>\n",
       "    </tr>\n",
       "    <tr>\n",
       "      <th>497</th>\n",
       "      <td>498</td>\n",
       "      <td>07.11.2024</td>\n",
       "      <td>18200-00</td>\n",
       "      <td>За тур.поездку по договору №75-04243Г от 24/04...</td>\n",
       "      <td>SERVICE</td>\n",
       "    </tr>\n",
       "    <tr>\n",
       "      <th>498</th>\n",
       "      <td>499</td>\n",
       "      <td>07.11.2024</td>\n",
       "      <td>2870000,00</td>\n",
       "      <td>Оплата по договору №095 от 24.02.2025г, счету ...</td>\n",
       "      <td>FOOD_GOODS</td>\n",
       "    </tr>\n",
       "    <tr>\n",
       "      <th>499</th>\n",
       "      <td>500</td>\n",
       "      <td>07.11.2024</td>\n",
       "      <td>2210-00</td>\n",
       "      <td>Оплата коммунальных услуг</td>\n",
       "      <td>SERVICE</td>\n",
       "    </tr>\n",
       "  </tbody>\n",
       "</table>\n",
       "<p>500 rows × 5 columns</p>\n",
       "</div>"
      ],
      "text/plain": [
       "      id        date           sum  \\\n",
       "0      1  07.11.2024      15300.00   \n",
       "1      2  07.11.2024      40200,00   \n",
       "2      3  07.11.2024       1440-00   \n",
       "3      4  07.11.2024  240000000-00   \n",
       "4      5  07.11.2024    1360000.00   \n",
       "..   ...         ...           ...   \n",
       "495  496  07.11.2024       2610.00   \n",
       "496  497  07.11.2024      31200-00   \n",
       "497  498  07.11.2024      18200-00   \n",
       "498  499  07.11.2024    2870000,00   \n",
       "499  500  07.11.2024       2210-00   \n",
       "\n",
       "                                               purpose        category  \n",
       "0    За участие в конференции в г. Майкоп по догово...         SERVICE  \n",
       "1    За оказание услуг по договору №79-02726В от 01...         SERVICE  \n",
       "2    Оплата за Порошок стиральный Ariel Color autom...  NON_FOOD_GOODS  \n",
       "3    Возврат денежных средств по договору займа №04...            LOAN  \n",
       "4    Оплата Дог №452 от 13/03/2021, согл. Сч 0745-2...  NOT_CLASSIFIED  \n",
       "..                                                 ...             ...  \n",
       "495                                     Оплата налогов             TAX  \n",
       "496  Комиссия за выполнение функций агента валютног...    BANK_SERVICE  \n",
       "497  За тур.поездку по договору №75-04243Г от 24/04...         SERVICE  \n",
       "498  Оплата по договору №095 от 24.02.2025г, счету ...      FOOD_GOODS  \n",
       "499                          Оплата коммунальных услуг         SERVICE  \n",
       "\n",
       "[500 rows x 5 columns]"
      ]
     },
     "execution_count": 65,
     "metadata": {},
     "output_type": "execute_result"
    }
   ],
   "source": [
    "data"
   ]
  },
  {
   "cell_type": "code",
   "execution_count": 66,
   "id": "c586d0bc-41cd-4270-86fc-000c2a6e9c77",
   "metadata": {},
   "outputs": [
    {
     "name": "stderr",
     "output_type": "stream",
     "text": [
      "500it [39:04,  4.69s/it]\n"
     ]
    }
   ],
   "source": [
    "ids = data['id'].values\n",
    "purpose = data['purpose'].values\n",
    "category = data['category'].values\n",
    "\n",
    "augmented_texts = []\n",
    "\n",
    "\n",
    "for text_id, purpose, category in tqdm(zip(ids, purpose, category)):\n",
    "    augmented_text = get_llm_response(purpose)\n",
    "    augmented_texts.append(augmented_text)\n"
   ]
  },
  {
   "cell_type": "code",
   "execution_count": null,
   "id": "0d2f11da-85e2-42c3-afd2-be228908de0e",
   "metadata": {},
   "outputs": [],
   "source": [
    "data = pd.read_csv('../data/augmented.csv')"
   ]
  },
  {
   "cell_type": "code",
   "execution_count": 55,
   "id": "7a3597ed-115c-4a5a-8479-dbdd720a11e9",
   "metadata": {},
   "outputs": [],
   "source": [
    "data['augmented_texts2'] = augmented_texts"
   ]
  },
  {
   "cell_type": "code",
   "execution_count": 56,
   "id": "dab2ad4d-0969-49ac-b447-f1dc82b508ea",
   "metadata": {},
   "outputs": [],
   "source": [
    "data.to_csv('../data/augmented.csv')"
   ]
  },
  {
   "cell_type": "code",
   "execution_count": null,
   "id": "f46ddf41-7dd6-40a7-834e-9ac0826f5b6c",
   "metadata": {},
   "outputs": [],
   "source": []
  }
 ],
 "metadata": {
  "kernelspec": {
   "display_name": "Python 3",
   "language": "python",
   "name": "python3"
  },
  "language_info": {
   "codemirror_mode": {
    "name": "ipython",
    "version": 3
   },
   "file_extension": ".py",
   "mimetype": "text/x-python",
   "name": "python",
   "nbconvert_exporter": "python",
   "pygments_lexer": "ipython3",
   "version": "3.8.8"
  }
 },
 "nbformat": 4,
 "nbformat_minor": 5
}
