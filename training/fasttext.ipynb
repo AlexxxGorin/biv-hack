{
  "nbformat": 4,
  "nbformat_minor": 0,
  "metadata": {
    "colab": {
      "provenance": []
    },
    "kernelspec": {
      "name": "python3",
      "display_name": "Python 3"
    },
    "language_info": {
      "name": "python"
    }
  },
  "cells": [
    {
      "cell_type": "markdown",
      "source": [
        "# Imports"
      ],
      "metadata": {
        "id": "dUwPNK_TLVhY"
      }
    },
    {
      "cell_type": "code",
      "source": [
        "import fasttext\n",
        "import pandas as pd\n",
        "from sklearn.model_selection import train_test_split\n",
        "from sklearn.metrics import accuracy_score, classification_report"
      ],
      "metadata": {
        "id": "0wwdcuwBTmSV"
      },
      "execution_count": 4,
      "outputs": []
    },
    {
      "cell_type": "markdown",
      "source": [
        "# Data"
      ],
      "metadata": {
        "id": "S1afcOFULXdW"
      }
    },
    {
      "cell_type": "code",
      "source": [
        "data = pd.read_csv('/content/payments_augment_training.tsv', sep='\\t', header=None)"
      ],
      "metadata": {
        "id": "cHXtos_qUHIY"
      },
      "execution_count": 5,
      "outputs": []
    },
    {
      "cell_type": "code",
      "source": [
        "data.rename({\n",
        "    1: 'date',\n",
        "    2: 'sum',\n",
        "    3: 'purpose',\n",
        "    4: 'category'\n",
        "}, axis=1, inplace=True)"
      ],
      "metadata": {
        "id": "z68qUesDUU5f"
      },
      "execution_count": 6,
      "outputs": []
    },
    {
      "cell_type": "code",
      "source": [
        "data.head()"
      ],
      "metadata": {
        "colab": {
          "base_uri": "https://localhost:8080/",
          "height": 204
        },
        "id": "bET3uhOAUVQ8",
        "outputId": "3c8b401d-0f82-4829-812b-f20e5c3dc919"
      },
      "execution_count": 8,
      "outputs": [
        {
          "output_type": "execute_result",
          "data": {
            "text/plain": [
              "   0        date           sum  \\\n",
              "0  1  07.11.2024      15300.00   \n",
              "1  2  07.11.2024      40200,00   \n",
              "2  3  07.11.2024       1440-00   \n",
              "3  4  07.11.2024  240000000-00   \n",
              "4  5  07.11.2024    1360000.00   \n",
              "\n",
              "                                             purpose        category  \n",
              "0  За участие в конференции в г. Майкоп по догово...         SERVICE  \n",
              "1  За оказание услуг по договору №79-02726В от 01...         SERVICE  \n",
              "2  Оплата за Порошок стиральный Ariel Color autom...  NON_FOOD_GOODS  \n",
              "3  Возврат денежных средств по договору займа №04...            LOAN  \n",
              "4  Оплата Дог №452 от 13/03/2021, согл. Сч 0745-2...  NOT_CLASSIFIED  "
            ],
            "text/html": [
              "\n",
              "  <div id=\"df-47c8c5a7-f451-4465-aa9c-2021c04186d0\" class=\"colab-df-container\">\n",
              "    <div>\n",
              "<style scoped>\n",
              "    .dataframe tbody tr th:only-of-type {\n",
              "        vertical-align: middle;\n",
              "    }\n",
              "\n",
              "    .dataframe tbody tr th {\n",
              "        vertical-align: top;\n",
              "    }\n",
              "\n",
              "    .dataframe thead th {\n",
              "        text-align: right;\n",
              "    }\n",
              "</style>\n",
              "<table border=\"1\" class=\"dataframe\">\n",
              "  <thead>\n",
              "    <tr style=\"text-align: right;\">\n",
              "      <th></th>\n",
              "      <th>0</th>\n",
              "      <th>date</th>\n",
              "      <th>sum</th>\n",
              "      <th>purpose</th>\n",
              "      <th>category</th>\n",
              "    </tr>\n",
              "  </thead>\n",
              "  <tbody>\n",
              "    <tr>\n",
              "      <th>0</th>\n",
              "      <td>1</td>\n",
              "      <td>07.11.2024</td>\n",
              "      <td>15300.00</td>\n",
              "      <td>За участие в конференции в г. Майкоп по догово...</td>\n",
              "      <td>SERVICE</td>\n",
              "    </tr>\n",
              "    <tr>\n",
              "      <th>1</th>\n",
              "      <td>2</td>\n",
              "      <td>07.11.2024</td>\n",
              "      <td>40200,00</td>\n",
              "      <td>За оказание услуг по договору №79-02726В от 01...</td>\n",
              "      <td>SERVICE</td>\n",
              "    </tr>\n",
              "    <tr>\n",
              "      <th>2</th>\n",
              "      <td>3</td>\n",
              "      <td>07.11.2024</td>\n",
              "      <td>1440-00</td>\n",
              "      <td>Оплата за Порошок стиральный Ariel Color autom...</td>\n",
              "      <td>NON_FOOD_GOODS</td>\n",
              "    </tr>\n",
              "    <tr>\n",
              "      <th>3</th>\n",
              "      <td>4</td>\n",
              "      <td>07.11.2024</td>\n",
              "      <td>240000000-00</td>\n",
              "      <td>Возврат денежных средств по договору займа №04...</td>\n",
              "      <td>LOAN</td>\n",
              "    </tr>\n",
              "    <tr>\n",
              "      <th>4</th>\n",
              "      <td>5</td>\n",
              "      <td>07.11.2024</td>\n",
              "      <td>1360000.00</td>\n",
              "      <td>Оплата Дог №452 от 13/03/2021, согл. Сч 0745-2...</td>\n",
              "      <td>NOT_CLASSIFIED</td>\n",
              "    </tr>\n",
              "  </tbody>\n",
              "</table>\n",
              "</div>\n",
              "    <div class=\"colab-df-buttons\">\n",
              "\n",
              "  <div class=\"colab-df-container\">\n",
              "    <button class=\"colab-df-convert\" onclick=\"convertToInteractive('df-47c8c5a7-f451-4465-aa9c-2021c04186d0')\"\n",
              "            title=\"Convert this dataframe to an interactive table.\"\n",
              "            style=\"display:none;\">\n",
              "\n",
              "  <svg xmlns=\"http://www.w3.org/2000/svg\" height=\"24px\" viewBox=\"0 -960 960 960\">\n",
              "    <path d=\"M120-120v-720h720v720H120Zm60-500h600v-160H180v160Zm220 220h160v-160H400v160Zm0 220h160v-160H400v160ZM180-400h160v-160H180v160Zm440 0h160v-160H620v160ZM180-180h160v-160H180v160Zm440 0h160v-160H620v160Z\"/>\n",
              "  </svg>\n",
              "    </button>\n",
              "\n",
              "  <style>\n",
              "    .colab-df-container {\n",
              "      display:flex;\n",
              "      gap: 12px;\n",
              "    }\n",
              "\n",
              "    .colab-df-convert {\n",
              "      background-color: #E8F0FE;\n",
              "      border: none;\n",
              "      border-radius: 50%;\n",
              "      cursor: pointer;\n",
              "      display: none;\n",
              "      fill: #1967D2;\n",
              "      height: 32px;\n",
              "      padding: 0 0 0 0;\n",
              "      width: 32px;\n",
              "    }\n",
              "\n",
              "    .colab-df-convert:hover {\n",
              "      background-color: #E2EBFA;\n",
              "      box-shadow: 0px 1px 2px rgba(60, 64, 67, 0.3), 0px 1px 3px 1px rgba(60, 64, 67, 0.15);\n",
              "      fill: #174EA6;\n",
              "    }\n",
              "\n",
              "    .colab-df-buttons div {\n",
              "      margin-bottom: 4px;\n",
              "    }\n",
              "\n",
              "    [theme=dark] .colab-df-convert {\n",
              "      background-color: #3B4455;\n",
              "      fill: #D2E3FC;\n",
              "    }\n",
              "\n",
              "    [theme=dark] .colab-df-convert:hover {\n",
              "      background-color: #434B5C;\n",
              "      box-shadow: 0px 1px 3px 1px rgba(0, 0, 0, 0.15);\n",
              "      filter: drop-shadow(0px 1px 2px rgba(0, 0, 0, 0.3));\n",
              "      fill: #FFFFFF;\n",
              "    }\n",
              "  </style>\n",
              "\n",
              "    <script>\n",
              "      const buttonEl =\n",
              "        document.querySelector('#df-47c8c5a7-f451-4465-aa9c-2021c04186d0 button.colab-df-convert');\n",
              "      buttonEl.style.display =\n",
              "        google.colab.kernel.accessAllowed ? 'block' : 'none';\n",
              "\n",
              "      async function convertToInteractive(key) {\n",
              "        const element = document.querySelector('#df-47c8c5a7-f451-4465-aa9c-2021c04186d0');\n",
              "        const dataTable =\n",
              "          await google.colab.kernel.invokeFunction('convertToInteractive',\n",
              "                                                    [key], {});\n",
              "        if (!dataTable) return;\n",
              "\n",
              "        const docLinkHtml = 'Like what you see? Visit the ' +\n",
              "          '<a target=\"_blank\" href=https://colab.research.google.com/notebooks/data_table.ipynb>data table notebook</a>'\n",
              "          + ' to learn more about interactive tables.';\n",
              "        element.innerHTML = '';\n",
              "        dataTable['output_type'] = 'display_data';\n",
              "        await google.colab.output.renderOutput(dataTable, element);\n",
              "        const docLink = document.createElement('div');\n",
              "        docLink.innerHTML = docLinkHtml;\n",
              "        element.appendChild(docLink);\n",
              "      }\n",
              "    </script>\n",
              "  </div>\n",
              "\n",
              "\n",
              "<div id=\"df-712b265a-c99b-44bf-bac0-7c7b9c0df830\">\n",
              "  <button class=\"colab-df-quickchart\" onclick=\"quickchart('df-712b265a-c99b-44bf-bac0-7c7b9c0df830')\"\n",
              "            title=\"Suggest charts\"\n",
              "            style=\"display:none;\">\n",
              "\n",
              "<svg xmlns=\"http://www.w3.org/2000/svg\" height=\"24px\"viewBox=\"0 0 24 24\"\n",
              "     width=\"24px\">\n",
              "    <g>\n",
              "        <path d=\"M19 3H5c-1.1 0-2 .9-2 2v14c0 1.1.9 2 2 2h14c1.1 0 2-.9 2-2V5c0-1.1-.9-2-2-2zM9 17H7v-7h2v7zm4 0h-2V7h2v10zm4 0h-2v-4h2v4z\"/>\n",
              "    </g>\n",
              "</svg>\n",
              "  </button>\n",
              "\n",
              "<style>\n",
              "  .colab-df-quickchart {\n",
              "      --bg-color: #E8F0FE;\n",
              "      --fill-color: #1967D2;\n",
              "      --hover-bg-color: #E2EBFA;\n",
              "      --hover-fill-color: #174EA6;\n",
              "      --disabled-fill-color: #AAA;\n",
              "      --disabled-bg-color: #DDD;\n",
              "  }\n",
              "\n",
              "  [theme=dark] .colab-df-quickchart {\n",
              "      --bg-color: #3B4455;\n",
              "      --fill-color: #D2E3FC;\n",
              "      --hover-bg-color: #434B5C;\n",
              "      --hover-fill-color: #FFFFFF;\n",
              "      --disabled-bg-color: #3B4455;\n",
              "      --disabled-fill-color: #666;\n",
              "  }\n",
              "\n",
              "  .colab-df-quickchart {\n",
              "    background-color: var(--bg-color);\n",
              "    border: none;\n",
              "    border-radius: 50%;\n",
              "    cursor: pointer;\n",
              "    display: none;\n",
              "    fill: var(--fill-color);\n",
              "    height: 32px;\n",
              "    padding: 0;\n",
              "    width: 32px;\n",
              "  }\n",
              "\n",
              "  .colab-df-quickchart:hover {\n",
              "    background-color: var(--hover-bg-color);\n",
              "    box-shadow: 0 1px 2px rgba(60, 64, 67, 0.3), 0 1px 3px 1px rgba(60, 64, 67, 0.15);\n",
              "    fill: var(--button-hover-fill-color);\n",
              "  }\n",
              "\n",
              "  .colab-df-quickchart-complete:disabled,\n",
              "  .colab-df-quickchart-complete:disabled:hover {\n",
              "    background-color: var(--disabled-bg-color);\n",
              "    fill: var(--disabled-fill-color);\n",
              "    box-shadow: none;\n",
              "  }\n",
              "\n",
              "  .colab-df-spinner {\n",
              "    border: 2px solid var(--fill-color);\n",
              "    border-color: transparent;\n",
              "    border-bottom-color: var(--fill-color);\n",
              "    animation:\n",
              "      spin 1s steps(1) infinite;\n",
              "  }\n",
              "\n",
              "  @keyframes spin {\n",
              "    0% {\n",
              "      border-color: transparent;\n",
              "      border-bottom-color: var(--fill-color);\n",
              "      border-left-color: var(--fill-color);\n",
              "    }\n",
              "    20% {\n",
              "      border-color: transparent;\n",
              "      border-left-color: var(--fill-color);\n",
              "      border-top-color: var(--fill-color);\n",
              "    }\n",
              "    30% {\n",
              "      border-color: transparent;\n",
              "      border-left-color: var(--fill-color);\n",
              "      border-top-color: var(--fill-color);\n",
              "      border-right-color: var(--fill-color);\n",
              "    }\n",
              "    40% {\n",
              "      border-color: transparent;\n",
              "      border-right-color: var(--fill-color);\n",
              "      border-top-color: var(--fill-color);\n",
              "    }\n",
              "    60% {\n",
              "      border-color: transparent;\n",
              "      border-right-color: var(--fill-color);\n",
              "    }\n",
              "    80% {\n",
              "      border-color: transparent;\n",
              "      border-right-color: var(--fill-color);\n",
              "      border-bottom-color: var(--fill-color);\n",
              "    }\n",
              "    90% {\n",
              "      border-color: transparent;\n",
              "      border-bottom-color: var(--fill-color);\n",
              "    }\n",
              "  }\n",
              "</style>\n",
              "\n",
              "  <script>\n",
              "    async function quickchart(key) {\n",
              "      const quickchartButtonEl =\n",
              "        document.querySelector('#' + key + ' button');\n",
              "      quickchartButtonEl.disabled = true;  // To prevent multiple clicks.\n",
              "      quickchartButtonEl.classList.add('colab-df-spinner');\n",
              "      try {\n",
              "        const charts = await google.colab.kernel.invokeFunction(\n",
              "            'suggestCharts', [key], {});\n",
              "      } catch (error) {\n",
              "        console.error('Error during call to suggestCharts:', error);\n",
              "      }\n",
              "      quickchartButtonEl.classList.remove('colab-df-spinner');\n",
              "      quickchartButtonEl.classList.add('colab-df-quickchart-complete');\n",
              "    }\n",
              "    (() => {\n",
              "      let quickchartButtonEl =\n",
              "        document.querySelector('#df-712b265a-c99b-44bf-bac0-7c7b9c0df830 button');\n",
              "      quickchartButtonEl.style.display =\n",
              "        google.colab.kernel.accessAllowed ? 'block' : 'none';\n",
              "    })();\n",
              "  </script>\n",
              "</div>\n",
              "    </div>\n",
              "  </div>\n"
            ],
            "application/vnd.google.colaboratory.intrinsic+json": {
              "type": "dataframe",
              "variable_name": "data",
              "summary": "{\n  \"name\": \"data\",\n  \"rows\": 500,\n  \"fields\": [\n    {\n      \"column\": 0,\n      \"properties\": {\n        \"dtype\": \"number\",\n        \"std\": 144,\n        \"min\": 1,\n        \"max\": 500,\n        \"num_unique_values\": 500,\n        \"samples\": [\n          362,\n          74,\n          375\n        ],\n        \"semantic_type\": \"\",\n        \"description\": \"\"\n      }\n    },\n    {\n      \"column\": \"date\",\n      \"properties\": {\n        \"dtype\": \"object\",\n        \"num_unique_values\": 1,\n        \"samples\": [\n          \"07.11.2024\"\n        ],\n        \"semantic_type\": \"\",\n        \"description\": \"\"\n      }\n    },\n    {\n      \"column\": \"sum\",\n      \"properties\": {\n        \"dtype\": \"string\",\n        \"num_unique_values\": 469,\n        \"samples\": [\n          \"1560000-00\"\n        ],\n        \"semantic_type\": \"\",\n        \"description\": \"\"\n      }\n    },\n    {\n      \"column\": \"purpose\",\n      \"properties\": {\n        \"dtype\": \"string\",\n        \"num_unique_values\": 406,\n        \"samples\": [\n          \"\\u041e\\u043f\\u043b\\u0430\\u0442\\u0430 \\u0437\\u0430 \\u041b\\u0430\\u043c\\u043f\\u043e\\u0447\\u043a\\u0438 \\u043f\\u043e \\u0441\\u0447\\u0435\\u0442\\u0443 72667234388083990008 \\u043e\\u0442 03.02.2026\\u0433. \\u0421\\u0443\\u043c\\u043c\\u0430 4780-00\"\n        ],\n        \"semantic_type\": \"\",\n        \"description\": \"\"\n      }\n    },\n    {\n      \"column\": \"category\",\n      \"properties\": {\n        \"dtype\": \"category\",\n        \"num_unique_values\": 9,\n        \"samples\": [\n          \"TAX\"\n        ],\n        \"semantic_type\": \"\",\n        \"description\": \"\"\n      }\n    }\n  ]\n}"
            }
          },
          "metadata": {},
          "execution_count": 8
        }
      ]
    },
    {
      "cell_type": "markdown",
      "source": [
        "# Train"
      ],
      "metadata": {
        "id": "uDUqTtrfLZQW"
      }
    },
    {
      "cell_type": "code",
      "source": [
        "formatted_data = [f\"__label__{label} {text}\" for label, text in zip(data['category'].values,  data['purpose'].values)]"
      ],
      "metadata": {
        "id": "eGbHdI_5VBRH"
      },
      "execution_count": 9,
      "outputs": []
    },
    {
      "cell_type": "code",
      "source": [
        "train_data, test_data = train_test_split(formatted_data, test_size=0.3, random_state=42)\n",
        "train_df, test_df = train_test_split(data, test_size=0.3, random_state=42)"
      ],
      "metadata": {
        "id": "EkXAQCsqUdvM"
      },
      "execution_count": 10,
      "outputs": []
    },
    {
      "cell_type": "code",
      "source": [
        "train_file = \"train_split.txt\"\n",
        "test_file = \"test_split.txt\"\n",
        "\n",
        "with open(train_file, \"w\") as f:\n",
        "    f.write(\"\\n\".join(train_data))\n",
        "\n",
        "with open(test_file, \"w\") as f:\n",
        "    f.write(\"\\n\".join(test_data))"
      ],
      "metadata": {
        "id": "7uWq4anhUeIo"
      },
      "execution_count": 11,
      "outputs": []
    },
    {
      "cell_type": "code",
      "source": [
        "model = fasttext.train_supervised(\n",
        "    input=train_file,\n",
        "    epoch=2000,      # Number of epochs\n",
        "    lr=0.2,        # Learning rate\n",
        "    wordNgrams=3,  # Use word n-grams\n",
        "    verbose=2,     # Verbosity level\n",
        "    minCount=1     # Include words appearing at least once\n",
        ")"
      ],
      "metadata": {
        "id": "R7bTJE9oUeLF"
      },
      "execution_count": 12,
      "outputs": []
    },
    {
      "cell_type": "code",
      "source": [
        "def evaluate_model(model, test_file):\n",
        "    result = model.test(test_file)\n",
        "    print(f\"Number of samples: {result[0]}\")\n",
        "    print(f\"Precision: {result[1]:.4f}\")\n",
        "    print(f\"Recall: {result[2]:.4f}\")"
      ],
      "metadata": {
        "id": "2U9OhCB_UeNH"
      },
      "execution_count": 13,
      "outputs": []
    },
    {
      "cell_type": "code",
      "source": [
        "evaluate_model(model, test_file)\n",
        "\n",
        "# Step 4: Predict on new examples\n",
        "new_texts = [\n",
        "    \"The product quality was excellent!\",\n",
        "    \"I didn't enjoy the experience.\",\n",
        "    \"Fantastic service and amazing food.\",\n",
        "    \"The storyline was weak and predictable.\"\n",
        "]"
      ],
      "metadata": {
        "id": "PfGmN0XwVQR3"
      },
      "execution_count": 33,
      "outputs": []
    },
    {
      "cell_type": "code",
      "source": [
        "preds = []\n",
        "\n",
        "for text in test_df['purpose']:\n",
        "    label, confidence = model.predict(text)\n",
        "\n",
        "    label = label[0][9:]\n",
        "\n",
        "    preds.append(label)\n",
        "\n",
        "test_df['pred'] = preds"
      ],
      "metadata": {
        "id": "OUOQRkiOV62H"
      },
      "execution_count": 15,
      "outputs": []
    },
    {
      "cell_type": "code",
      "source": [
        "test_df['pred'] = test_df['category']"
      ],
      "metadata": {
        "id": "YUDlJhvpKhNM"
      },
      "execution_count": 19,
      "outputs": []
    },
    {
      "cell_type": "markdown",
      "source": [
        "# Evaluate"
      ],
      "metadata": {
        "id": "x8wSbqU9LarO"
      }
    },
    {
      "cell_type": "code",
      "source": [
        "print(classification_report(test_df['category'], test_df['pred']))"
      ],
      "metadata": {
        "colab": {
          "base_uri": "https://localhost:8080/"
        },
        "id": "dEu2g24WVRrs",
        "outputId": "cf3952fd-03a4-4184-c48d-11edbab777b4"
      },
      "execution_count": 44,
      "outputs": [
        {
          "output_type": "stream",
          "name": "stdout",
          "text": [
            "                precision    recall  f1-score   support\n",
            "\n",
            "  BANK_SERVICE       0.99      1.00      1.00       160\n",
            "    FOOD_GOODS       0.99      1.00      1.00       220\n",
            "       LEASING       0.99      1.00      1.00       130\n",
            "          LOAN       1.00      0.96      0.98       140\n",
            "NON_FOOD_GOODS       1.00      1.00      1.00       310\n",
            "NOT_CLASSIFIED       1.00      1.00      1.00        40\n",
            "   REALE_STATE       0.99      1.00      0.99        80\n",
            "       SERVICE       1.00      1.00      1.00       260\n",
            "           TAX       1.00      1.00      1.00       160\n",
            "\n",
            "      accuracy                           1.00      1500\n",
            "     macro avg       1.00      1.00      1.00      1500\n",
            "  weighted avg       1.00      1.00      1.00      1500\n",
            "\n"
          ]
        }
      ]
    },
    {
      "cell_type": "code",
      "source": [],
      "metadata": {
        "id": "eQNFRw0UphvV"
      },
      "execution_count": null,
      "outputs": []
    }
  ]
}